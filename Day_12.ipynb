{
 "cells": [
  {
   "cell_type": "code",
   "execution_count": null,
   "id": "cd809ec9",
   "metadata": {},
   "outputs": [],
   "source": [
    "import tkinter as tk\n",
    "from tkinter import scrolledtext\n",
    "from sklearn.feature_extraction.text import CountVectorizer\n",
    "from sklearn.metrics.pairwise import cosine_similarity\n",
    "patterns = [\n",
    "    \"hi\",\n",
    "    \"chal rha h?\",\n",
    "    \"this is hooman\",\n",
    "    \"skye is my name\",\n",
    "    \"thankyou\"\n",
    "]\n",
    "responses = [\n",
    "    \"hello\",\n",
    "    \"pagal h kya\",\n",
    "    \"good to see u\",\n",
    "    \"hope u will have fun\",\n",
    "    \"enjoy\"\n",
    "]\n",
    "vectorizer =CountVectorizer()\n",
    "X = vectorizer.fit_transform(patterns)\n",
    "#\n",
    "def get_response():\n",
    "    user_message = input_text.get(\"1.0\", \"end-1c\")\n",
    "    user_message_vector = vectorizer.transform([user_message])\n",
    "    similarities = cosine_similarity(user_message_vector,X)\n",
    "    most_similar_index = similarities.argmax()\n",
    "    if similarities[0][most_similar_index]>0:\n",
    "        response = responses[most_similar_index]\n",
    "    else:\n",
    "        response = \"I am sorry I did'nt understand.\"\n",
    "    output_text.insert(tk.END,f\"Chat: {response}\\n\")\n",
    "    input_text.delete(\"1.0\",tk.END)\n",
    "    \n",
    "#create the main window\n",
    "root = tk.Tk()\n",
    "root.title(\"NLP Basic Chatbot\")\n",
    "\n",
    "\n",
    "#create and place widgets\n",
    "input_text = scrolledtext.ScrolledText(root, wrap = tk.WORD, width = 40, height = 5)\n",
    "input_text.pack(padx =10,pady = 10)\n",
    "send_button = tk.Button(root, text = \"Send\", command = get_response)\n",
    "send_button.pack()\n",
    "\n",
    "output_text = scrolledtext.ScrolledText(root, wrap = tk.WORD, width=40, height = 10)\n",
    "output_text.pack(padx = 10, pady = 10)\n",
    "root.mainloop()"
   ]
  },
  {
   "cell_type": "code",
   "execution_count": null,
   "id": "7acc97b1",
   "metadata": {},
   "outputs": [],
   "source": []
  },
  {
   "cell_type": "code",
   "execution_count": null,
   "id": "b342cab5",
   "metadata": {},
   "outputs": [],
   "source": []
  }
 ],
 "metadata": {
  "kernelspec": {
   "display_name": "Python 3 (ipykernel)",
   "language": "python",
   "name": "python3"
  },
  "language_info": {
   "codemirror_mode": {
    "name": "ipython",
    "version": 3
   },
   "file_extension": ".py",
   "mimetype": "text/x-python",
   "name": "python",
   "nbconvert_exporter": "python",
   "pygments_lexer": "ipython3",
   "version": "3.11.4"
  }
 },
 "nbformat": 4,
 "nbformat_minor": 5
}
