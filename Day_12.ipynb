{
 "cells": [
  {
   "cell_type": "code",
   "execution_count": 27,
   "id": "e77025f8",
   "metadata": {},
   "outputs": [],
   "source": [
    "import tkinter as tk\n",
    "from tkinter import scrolledtext\n",
    "from sklearn.feature_extraction.text import CountVectorizer\n",
    "from sklearn.metrics.pairwise import cosine_similarity\n",
    "patterns = [\n",
    "    \"hi\",\n",
    "    \"chal rha h?\",\n",
    "    \"this is hooman\",\n",
    "    \"skye is my name\",\n",
    "    \"thankyou\"\n",
    "]\n",
    "responses = [\n",
    "    \"hello\",\n",
    "    \"pagal h kya\",\n",
    "    \"good to see u\",\n",
    "    \"hope u will have fun\",\n",
    "    \"enjoy\"\n",
    "]\n",
    "vectorizer =CountVectorizer()\n",
    "X = vectorizer.fit_transform(patterns)\n",
    "#\n",
    "def get_response():\n",
    "    user_message = input_text.get(\"1.0\", \"end-1c\")\n",
    "    user_message_vector = vectorizer.transform([user_message])\n",
    "    similarities = cosine_similarity(user_message_vector,X)\n",
    "    most_similar_index = similarities.argmax()\n",
    "    if similarities[0][most_similar_index]>0:\n",
    "        response = responses[most_similar_index]\n",
    "    else:\n",
    "        response = \"I am sorry I did'nt understand.\"\n",
    "    output_text.insert(tk.END,f\"Chat: {response}\\n\")\n",
    "    input_text.delete(\"1.0\",tk.END)\n",
    "    \n",
    "#create the main window\n",
    "root = tk.Tk()\n",
    "root.title(\"NLP Basic Chatbot\")\n",
    "\n",
    "\n",
    "#create and place widgets\n",
    "input_text = scrolledtext.ScrolledText(root, wrap = tk.WORD, width = 40, height = 5)\n",
    "input_text.pack(padx =10,pady = 10)\n",
    "send_button = tk.Button(root, text = \"Send\", command = get_response)\n",
    "send_button.pack()\n",
    "\n",
    "output_text = scrolledtext.ScrolledText(root, wrap = tk.WORD, width=40, height = 10)\n",
    "output_text.pack(padx = 10, pady = 10)\n",
    "root.mainloop()"
   ]
  },
  {
   "cell_type": "markdown",
   "id": "133a6fa3",
   "metadata": {},
   "source": [
    "# Chat bot using Textblob"
   ]
  },
  {
   "cell_type": "code",
   "execution_count": 32,
   "id": "9eb5ccc5",
   "metadata": {},
   "outputs": [
    {
     "name": "stdout",
     "output_type": "stream",
     "text": [
      "Chatbot:Hello! How can i assist you? (Type 'Bye' to exit)\n",
      "You: Hello\n",
      "Chatbot: I am sorry\n",
      "You: hi\n",
      "Chatbot: Hello hooman!!!\n",
      "You: hello\n",
      "Chatbot: I am sorry\n",
      "You: bye\n",
      "Chatbot: Goodbye! Have a great day\n"
     ]
    }
   ],
   "source": [
    "from textblob import TextBlob\n",
    "# define input for\n",
    "patterns_responses = {\n",
    "    \"hi\": \"Hello hooman!!!\",\n",
    "    \"Hello\": \"Tell me how can I help u.\",\n",
    "    \"U can't\": \"Ok my bad\"\n",
    "}\n",
    "def chatbot_response(user_input):\n",
    "#     create a textblob object for the user input\n",
    "    blob = TextBlob(user_input.lower())\n",
    "#     check for patterns in the user input\n",
    "    for pattern, response in patterns_responses.items():\n",
    "        if pattern in blob.words:\n",
    "            return response\n",
    "    return \"I am sorry\"\n",
    "print(\"Chatbot:Hello! How can i assist you? (Type 'Bye' to exit)\")\n",
    "while True:\n",
    "    user_input = input(\"You: \")\n",
    "    if user_input.lower() == 'bye':\n",
    "        print(\"Chatbot: Goodbye! Have a great day\")\n",
    "        break\n",
    "    response = chatbot_response(user_input)\n",
    "    print(\"Chatbot:\", response)\n",
    "        \n",
    "    "
   ]
  },
  {
   "cell_type": "code",
   "execution_count": 37,
   "id": "9b4401d5",
   "metadata": {},
   "outputs": [
    {
     "name": "stdout",
     "output_type": "stream",
     "text": [
      "Original Text:\n",
      "Natural languaged processing is a field of artificial intelligence that deals with the interactionbetween computers and humans usingnatural language\n",
      "\n",
      "Tokenized Words:\n",
      "['Natural', 'languaged', 'processing', 'is', 'a', 'field', 'of', 'artificial', 'intelligence', 'that', 'deals', 'with', 'the', 'interactionbetween', 'computers', 'and', 'humans', 'usingnatural', 'language']\n",
      "\n",
      "Sentences:\n",
      "['Natural languaged processing is a field of artificial intelligence that deals with the interactionbetween computers and humans usingnatural language']\n",
      "\n",
      "Part-of-speech Tags:\n",
      "[('Natural', 'NNP'), ('languaged', 'VBD'), ('processing', 'NN'), ('is', 'VBZ'), ('a', 'DT'), ('field', 'NN'), ('of', 'IN'), ('artificial', 'JJ'), ('intelligence', 'NN'), ('that', 'IN'), ('deals', 'NNS'), ('with', 'IN'), ('the', 'DT'), ('interactionbetween', 'JJ'), ('computers', 'NNS'), ('and', 'CC'), ('humans', 'NNS'), ('usingnatural', 'JJ'), ('language', 'NN')]\n",
      "\n",
      "Sentiment score: -0.25\n"
     ]
    },
    {
     "name": "stderr",
     "output_type": "stream",
     "text": [
      "[nltk_data] Downloading package punkt to\n",
      "[nltk_data]     C:\\Users\\subra\\AppData\\Roaming\\nltk_data...\n",
      "[nltk_data]   Package punkt is already up-to-date!\n",
      "[nltk_data] Downloading package averaged_perceptron_tagger to\n",
      "[nltk_data]     C:\\Users\\subra\\AppData\\Roaming\\nltk_data...\n",
      "[nltk_data]   Package averaged_perceptron_tagger is already up-to-\n",
      "[nltk_data]       date!\n",
      "[nltk_data] Downloading package stopwords to\n",
      "[nltk_data]     C:\\Users\\subra\\AppData\\Roaming\\nltk_data...\n",
      "[nltk_data]   Package stopwords is already up-to-date!\n"
     ]
    }
   ],
   "source": [
    "import nltk\n",
    "from nltk.tokenize import word_tokenize, sent_tokenize\n",
    "from nltk.corpus import stopwords\n",
    "from textblob import TextBlob\n",
    "\n",
    "# download nltk data \n",
    "nltk.download('punkt')\n",
    "nltk.download('averaged_perceptron_tagger')\n",
    "nltk.download('stopwords')\n",
    "\n",
    "# samole text\n",
    "text = \"Natural languaged processing is a field of artificial intelligence that \"\\\n",
    "\"deals with the interaction\"\\\n",
    "\"between computers and humans using\"\\\n",
    "\"natural language\"\n",
    "\n",
    "# tokenize using NLTk\n",
    "words = word_tokenize(text)\n",
    "sentences = sent_tokenize(text)\n",
    "\n",
    "# ports-of speech togging using NLTK\n",
    "pos_tags = nltk.pos_tag(words)\n",
    "\n",
    "# sentiment analysis using Textblob\n",
    "blob = TextBlob(text)\n",
    "sentiment_score = blob.sentiment.polarity\n",
    "\n",
    "# display results\n",
    "print(\"Original Text:\")\n",
    "print(text)\n",
    "print(\"\\nTokenized Words:\")\n",
    "print(words)\n",
    "print(\"\\nSentences:\")\n",
    "print(sentences)\n",
    "print(\"\\nPart-of-speech Tags:\")\n",
    "print(pos_tags)\n",
    "print(\"\\nSentiment score:\",sentiment_score)"
   ]
  },
  {
   "cell_type": "code",
   "execution_count": 36,
   "id": "f8ee3699",
   "metadata": {},
   "outputs": [
    {
     "name": "stdout",
     "output_type": "stream",
     "text": [
      "\n",
      "Filtered words(without stopwords):\n",
      "['Natural', 'languaged', 'processing', 'field', 'artificial', 'intelligence', 'deals', 'interactionbetween', 'computers', 'humans', 'usingnatural', 'language']\n"
     ]
    }
   ],
   "source": [
    "# filtering stopwords using NLTK\n",
    "stop_words = set(stopwords.words('english'))\n",
    "filtered_words = [word for word in words if word.lower()not in stop_words]\n",
    "print(\"\\nFiltered words(without stopwords):\")\n",
    "print(filtered_words)"
   ]
  },
  {
   "cell_type": "code",
   "execution_count": null,
   "id": "533ed10f",
   "metadata": {},
   "outputs": [],
   "source": []
  }
 ],
 "metadata": {
  "kernelspec": {
   "display_name": "Python 3 (ipykernel)",
   "language": "python",
   "name": "python3"
  },
  "language_info": {
   "codemirror_mode": {
    "name": "ipython",
    "version": 3
   },
   "file_extension": ".py",
   "mimetype": "text/x-python",
   "name": "python",
   "nbconvert_exporter": "python",
   "pygments_lexer": "ipython3",
   "version": "3.11.4"
  }
 },
 "nbformat": 4,
 "nbformat_minor": 5
}
