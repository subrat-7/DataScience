{
 "cells": [
  {
   "cell_type": "raw",
   "id": "9637249f",
   "metadata": {},
   "source": [
    "import numpy as np"
   ]
  },
  {
   "cell_type": "code",
   "execution_count": 9,
   "id": "05e830f8",
   "metadata": {},
   "outputs": [
    {
     "name": "stdout",
     "output_type": "stream",
     "text": [
      "Intercepts: -inf\n",
      "Slope: -inf\n"
     ]
    }
   ],
   "source": [
    "np.random.seed(42)\n",
    "x = 2 * np.random.rand(100,1)\n",
    "y = 4 + 3 * x + np.random.randn(100,1)\n",
    "# Add a bias term to x \n",
    "# X_b is the input matrix with an additional bias term.\n",
    "X_b = np.c_[np.ones((100,1)),x]\n",
    "# inotialize model parameters\n",
    "theta = np.random.randn(2,1)\n",
    "# hyperparameters\n",
    "learning_rate = 0.1\n",
    "n_iterations = 1000\n",
    "# Gradient Descent\n",
    "for iteration in range(n_iterations):\n",
    "    gradients = 2 * X_b.T.dot(y - X_b.dot(theta))\n",
    "    theta -= learning_rate * gradients\n",
    "# optimal parameters\n",
    "intercept, slope = theta\n",
    "print(\"Intercepts:\",intercept[0])\n",
    "print(\"Slope:\", slope[0])"
   ]
  },
  {
   "cell_type": "code",
   "execution_count": null,
   "id": "6f1638c3",
   "metadata": {},
   "outputs": [],
   "source": [
    "# Adadata refines adagrad by introducing a decay term for the accumulated historical gradient."
   ]
  },
  {
   "cell_type": "code",
   "execution_count": 7,
   "id": "65075485",
   "metadata": {},
   "outputs": [
    {
     "data": {
      "image/png": "[encoded data removed]",
      "text/plain": [
       "<Figure size 432x288 with 1 Axes>"
      ]
     },
     "metadata": {
      "needs_background": "light"
     },
     "output_type": "display_data"
    }
   ],
   "source": [
    "import numpy as np\n",
    "import matplotlib.pyplot as plt\n",
    "# generate synthetic data\n",
    "np.random.seed(42)\n",
    "x = np.random.rand(100,1)*10\n",
    "y = 2 * x + 3 + np.random.randn(100,1)\n",
    "class Linearregression:\n",
    "    def __init__(self):\n",
    "        self.weights = None\n",
    "        self.bias = None\n",
    "        \n",
    "    def fit(self,x,y, learning_rate = 0.01, epoch = 20):\n",
    "        num_samples, num_features = x.shape\n",
    "        self.weights = np.zeros((num_features,1))\n",
    "        self.bias = 0\n",
    "        \n",
    "        for _ in range(epoch):\n",
    "            y_pred = np.dot(x, self.weights) + self.bias\n",
    "            dw = (1/num_samples)* np.dot(x.T,(y_pred - y))\n",
    "            db = (1/num_samples)* np.sum(y_pred - y)\n",
    "            \n",
    "            self.weights -= learning_rate * dw\n",
    "            self.bias -= learning_rate *db\n",
    "            \n",
    "    def predict (self, x):\n",
    "        return np.dot(x,self.weights)+self.bias\n",
    "model = Linearregression()\n",
    "model.fit(x,y, learning_rate = 0.01, epoch = 20)\n",
    "x_test = np.array([[1],[5],[10]])\n",
    "y_pred = model.predict(x_test)\n",
    "\n",
    "plt.scatter(x,y,label ='Training Data')\n",
    "plt.plot(x_test,y_pred, color=\"red\",label = \"Linear Regression\")\n",
    "plt.xlabel('X')\n",
    "plt.ylabel('Y')\n",
    "plt.title(\"Linear Regression using Numpy\")\n",
    "plt.legend()\n",
    "plt.show()"
   ]
  },
  {
   "cell_type": "code",
   "execution_count": null,
   "id": "583e614c",
   "metadata": {},
   "outputs": [],
   "source": []
  }
 ],
 "metadata": {
  "kernelspec": {
   "display_name": "Python 3 (ipykernel)",
   "language": "python",
   "name": "python3"
  },
  "language_info": {
   "codemirror_mode": {
    "name": "ipython",
    "version": 3
   },
   "file_extension": ".py",
   "mimetype": "text/x-python",
   "name": "python",
   "nbconvert_exporter": "python",
   "pygments_lexer": "ipython3",
   "version": "3.9.12"
  }
 },
 "nbformat": 4,
 "nbformat_minor": 5
}
