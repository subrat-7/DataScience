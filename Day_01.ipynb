{
 "cells": [
  {
   "cell_type": "code",
   "execution_count": 26,
   "id": "a1e38d7a",
   "metadata": {},
   "outputs": [
    {
     "name": "stdout",
     "output_type": "stream",
     "text": [
      "bread\n",
      "milk\n",
      "butter\n"
     ]
    }
   ],
   "source": [
    "def logistic_provider():\n",
    "    dict1={1:\"bread\",2:\"milk\",3:\"butter\"}\n",
    "    for i in dict1:\n",
    "#         print(i)\n",
    "        if i==1:\n",
    "            print(\"bread\")\n",
    "        elif i==2:\n",
    "            print(\"milk\")\n",
    "        else:\n",
    "            print(\"butter\")\n",
    "logistic_provider()"
   ]
  },
  {
   "cell_type": "code",
   "execution_count": 27,
   "id": "94c77756",
   "metadata": {},
   "outputs": [
    {
     "name": "stdout",
     "output_type": "stream",
     "text": [
      "name pawan\n",
      "age 20\n",
      "branch cse\n",
      "updated dictionary: {'name': 'pawan', 'age': 21, 'branch': 'cse'}\n"
     ]
    }
   ],
   "source": [
    "student ={\n",
    "    \"name\":\"pawan\",\n",
    "    \"age\": 20,\n",
    "    \"branch\":\"cse\"\n",
    "}\n",
    "print(\"name\",student[\"name\"])\n",
    "print(\"age\",student[\"age\"])\n",
    "print(\"branch\",student[\"branch\"])\n",
    "\n",
    "student[\"age\"]= 21\n",
    "print(\"updated dictionary:\", student)      "
   ]
  },
  {
   "cell_type": "code",
   "execution_count": 15,
   "id": "0f36b786",
   "metadata": {},
   "outputs": [
    {
     "name": "stdout",
     "output_type": "stream",
     "text": [
      "[2, 3, 4, 5, 7, 23, 45, 67, 4]\n",
      "[2, 3, 5, 7, 23, 45, 67, 4]\n"
     ]
    }
   ],
   "source": [
    "list1 = [5,4,67,77,2,3,7,45,23]\n",
    "list1.sort()\n",
    "list1.append(4)\n",
    "list1.remove(77)\n",
    "print(list1)\n",
    "# list1.push(99)\n",
    "list1.pop(2)\n",
    "print(list1)"
   ]
  },
  {
   "cell_type": "code",
   "execution_count": 23,
   "id": "957b2104",
   "metadata": {},
   "outputs": [
    {
     "name": "stdout",
     "output_type": "stream",
     "text": [
      "6.0\n",
      "[ 1  4  9 16 25]\n"
     ]
    }
   ],
   "source": [
    "import numpy as np\n",
    "arr = np.array([1,2,3,4,5])\n",
    "sq = arr**2\n",
    "mean = np.mean([4,5,6,7,8])\n",
    "print(mean)\n",
    "print(sq)"
   ]
  },
  {
   "cell_type": "code",
   "execution_count": 32,
   "id": "909a0ad8",
   "metadata": {},
   "outputs": [
    {
     "name": "stdout",
     "output_type": "stream",
     "text": [
      "file processin completed\n"
     ]
    }
   ],
   "source": [
    "with open(\"data.txt\",\"r\") as file:\n",
    "    data = file.read()\n",
    "    processed_data = data.upper()\n",
    "with open(\"processed_data.txt\",\"w\")as file:\n",
    "    file.write(processed_data)\n",
    "    print(\"file processin completed\")\n",
    "        "
   ]
  },
  {
   "cell_type": "code",
   "execution_count": 31,
   "id": "674150b8",
   "metadata": {},
   "outputs": [
    {
     "data": {
      "text/plain": [
       "'HI I AM AMIT\\n'"
      ]
     },
     "execution_count": 31,
     "metadata": {},
     "output_type": "execute_result"
    }
   ],
   "source": [
    "processed_data\n"
   ]
  },
  {
   "cell_type": "code",
   "execution_count": null,
   "id": "db6585a7",
   "metadata": {},
   "outputs": [],
   "source": []
  },
  {
   "cell_type": "code",
   "execution_count": null,
   "id": "2160e0ea",
   "metadata": {},
   "outputs": [],
   "source": []
  }
 ],
 "metadata": {
  "kernelspec": {
   "display_name": "Python 3 (ipykernel)",
   "language": "python",
   "name": "python3"
  },
  "language_info": {
   "codemirror_mode": {
    "name": "ipython",
    "version": 3
   },
   "file_extension": ".py",
   "mimetype": "text/x-python",
   "name": "python",
   "nbconvert_exporter": "python",
   "pygments_lexer": "ipython3",
   "version": "3.9.12"
  }
 },
 "nbformat": 4,
 "nbformat_minor": 5
}
