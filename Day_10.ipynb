{
 "cells": [
  {
   "cell_type": "markdown",
   "id": "ae63b1a5",
   "metadata": {},
   "source": [
    "# K_Means"
   ]
  },
  {
   "cell_type": "code",
   "execution_count": 1,
   "id": "4abb73af",
   "metadata": {},
   "outputs": [],
   "source": [
    "import numpy as np\n",
    "import pandas as pd\n",
    "import matplotlib.pyplot as plt\n",
    "from sklearn.cluster import KMeans"
   ]
  },
  {
   "cell_type": "code",
   "execution_count": 2,
   "id": "5fb766c3",
   "metadata": {},
   "outputs": [
    {
     "name": "stderr",
     "output_type": "stream",
     "text": [
      "C:\\Users\\subra\\anaconda3\\lib\\site-packages\\sklearn\\cluster\\_kmeans.py:870: FutureWarning: The default value of `n_init` will change from 10 to 'auto' in 1.4. Set the value of `n_init` explicitly to suppress the warning\n",
      "  warnings.warn(\n"
     ]
    },
    {
     "data": {
      "image/png": "[encoded data removed]",
      "text/plain": [
       "<Figure size 432x288 with 1 Axes>"
      ]
     },
     "metadata": {
      "needs_background": "light"
     },
     "output_type": "display_data"
    }
   ],
   "source": [
    "# Generating random data points\n",
    "np.random.seed(0)\n",
    "data = np.random.rand(10,2)\n",
    "# print(data)\n",
    "# number of clusters\n",
    "k = 3\n",
    "# initialize the Kmean model\n",
    "kmeans = KMeans(n_clusters=k)\n",
    "# fit the model in data \n",
    "kmeans.fit(data)\n",
    "# get the cluster centers and lables\n",
    "centres = kmeans.cluster_centers_\n",
    "labels = kmeans.labels_\n",
    "plt.scatter(data[:,0],data[:,1], c =labels, cmap = 'viridis')\n",
    "plt.scatter(centres[:,0],centres[:,1],c='black',marker='*',s=100,label='Cluster Centers')\n",
    "plt.title('Kmean Clustering')\n",
    "plt.legend()\n",
    "plt.show()"
   ]
  },
  {
   "cell_type": "code",
   "execution_count": 5,
   "id": "d7331922",
   "metadata": {},
   "outputs": [],
   "source": [
    "import numpy as np\n",
    "import nltk \n",
    "from nltk.corpus import stopwords\n",
    "from nltk.tokenize import word_tokenize\n",
    "from sklearn.cluster import KMeans\n",
    "import matplotlib.pyplot as plt"
   ]
  },
  {
   "cell_type": "code",
   "execution_count": 6,
   "id": "bd7a3473",
   "metadata": {},
   "outputs": [
    {
     "name": "stderr",
     "output_type": "stream",
     "text": [
      "[nltk_data] Downloading package stopwords to\n",
      "[nltk_data]     C:\\Users\\subra\\AppData\\Roaming\\nltk_data...\n",
      "[nltk_data]   Package stopwords is already up-to-date!\n",
      "[nltk_data] Downloading package punkt to\n",
      "[nltk_data]     C:\\Users\\subra\\AppData\\Roaming\\nltk_data...\n",
      "[nltk_data]   Package punkt is already up-to-date!\n",
      "C:\\Users\\subra\\anaconda3\\lib\\site-packages\\sklearn\\cluster\\_kmeans.py:870: FutureWarning: The default value of `n_init` will change from 10 to 'auto' in 1.4. Set the value of `n_init` explicitly to suppress the warning\n",
      "  warnings.warn(\n"
     ]
    },
    {
     "data": {
      "image/png": "[encoded data removed]",
      "text/plain": [
       "<Figure size 432x288 with 1 Axes>"
      ]
     },
     "metadata": {
      "needs_background": "light"
     },
     "output_type": "display_data"
    }
   ],
   "source": [
    "# downlaod the stopwords and punkit tokenizer data from NLTK\n",
    "# K-Mean clustering on text data \n",
    "# Numpy changes the tokenized words into clusters\n",
    "# clusters are initialized using KMean and ploted on graph\n",
    "\n",
    "\n",
    "nltk.download('stopwords')\n",
    "nltk.download('punkt')\n",
    "# Sampled text data\n",
    "text_data = [\n",
    "\"Natural language processing is a subfield of artificial intelligence.\",\n",
    "\"Text mining involves extracting meaningful information from unstructured text data.\",\n",
    "\"Hachine learning algorithms can be applied to analyze text data.\",\n",
    "\"NLP tasks include sentiment analysis, named entity recognition, and language translation.\",\n",
    "\"K-means clustering is a popular unsupervised machine learning algorithm.\"\n",
    "]\n",
    "\n",
    "def preprocess_text(text_data):\n",
    "    stop_words = set(stopwords.words('english'))\n",
    "    preprocessed_data = []\n",
    "    for text in text_data:\n",
    "        words = word_tokenize(text.lower())\n",
    "        filtered_words = [word for word in words if word.isalnum() and word not in stop_words]\n",
    "        preprocessed_data.append(filtered_words)\n",
    "    return preprocessed_data\n",
    "preprocessed_data = preprocess_text(text_data)\n",
    "\n",
    "# convert the preprocessed data to numerical vectors using one-hot encoding\n",
    "unique_words = sorted(set(word for sublist in preprocessed_data for word in sublist))\n",
    "one_hot_vectors = np.zeros((len(preprocessed_data), len(unique_words)))\n",
    "for i, words in enumerate(preprocessed_data):\n",
    "    for word in words:\n",
    "        one_hot_vectors[i,unique_words.index(word)] = 1\n",
    "# number of clusters\n",
    "k = 3\n",
    "# initialize the KMean model\n",
    "kmeans = KMeans(n_clusters = k)\n",
    "# Data initialization -->model fitting --> data labeling\n",
    "# data ploting --> data visualization\n",
    "kmeans.fit(one_hot_vectors)\n",
    "# get the cluster centers and labels\n",
    "centers = kmeans.cluster_centers_\n",
    "labels = kmeans.labels_\n",
    "# plot the cluster centres\n",
    "\n",
    "plt.scatter(centers[:,0], centers[:, 1], c ='black',marker =\"*\", s =100, label = 'Cluster Centers')\n",
    "plt.title(\"K-Means Clustering on text data using NLTK\")\n",
    "plt.legend()\n",
    "plt.show()"
   ]
  },
  {
   "cell_type": "code",
   "execution_count": null,
   "id": "02ea984b",
   "metadata": {},
   "outputs": [],
   "source": []
  }
 ],
 "metadata": {
  "kernelspec": {
   "display_name": "Python 3 (ipykernel)",
   "language": "python",
   "name": "python3"
  },
  "language_info": {
   "codemirror_mode": {
    "name": "ipython",
    "version": 3
   },
   "file_extension": ".py",
   "mimetype": "text/x-python",
   "name": "python",
   "nbconvert_exporter": "python",
   "pygments_lexer": "ipython3",
   "version": "3.9.12"
  }
 },
 "nbformat": 4,
 "nbformat_minor": 5
}
