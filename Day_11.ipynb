{
 "cells": [
  {
   "cell_type": "code",
   "execution_count": 14,
   "id": "304ecca6",
   "metadata": {},
   "outputs": [
    {
     "ename": "error",
     "evalue": "OpenCV(4.8.0) :-1: error: (-5:Bad argument) in function 'dilate'\n> Overload resolution failed:\n>  - 'iteration' is an invalid keyword argument for dilate()\n>  - 'iteration' is an invalid keyword argument for dilate()\n",
     "output_type": "error",
     "traceback": [
      "\u001b[1;31m---------------------------------------------------------------------------\u001b[0m",
      "\u001b[1;31merror\u001b[0m                                     Traceback (most recent call last)",
      "Cell \u001b[1;32mIn[14], line 37\u001b[0m\n\u001b[0;32m     34\u001b[0m \u001b[38;5;66;03m#         apply threshold to the fame \u001b[39;00m\n\u001b[0;32m     36\u001b[0m     thresh \u001b[38;5;241m=\u001b[39m cv2\u001b[38;5;241m.\u001b[39mthreshold(frame_delta,\u001b[38;5;241m25\u001b[39m,\u001b[38;5;241m255\u001b[39m,cv2\u001b[38;5;241m.\u001b[39mTHRESH_BINARY)[\u001b[38;5;241m1\u001b[39m]\n\u001b[1;32m---> 37\u001b[0m     thresh \u001b[38;5;241m=\u001b[39m cv2\u001b[38;5;241m.\u001b[39mdilate(thresh, \u001b[38;5;28;01mNone\u001b[39;00m,iteration \u001b[38;5;241m=\u001b[39m \u001b[38;5;241m2\u001b[39m)\n\u001b[0;32m     39\u001b[0m \u001b[38;5;66;03m#         Find contours in the threshold image\u001b[39;00m\n\u001b[0;32m     40\u001b[0m     contours, _ \u001b[38;5;241m=\u001b[39m cv2\u001b[38;5;241m.\u001b[39mfindContours(thresh\u001b[38;5;241m.\u001b[39mcopy(), cv2\u001b[38;5;241m.\u001b[39mRETR_EXTERNAL, cv2\u001b[38;5;241m.\u001b[39mCHAIN_APPROX_SIMPLE)\n",
      "\u001b[1;31merror\u001b[0m: OpenCV(4.8.0) :-1: error: (-5:Bad argument) in function 'dilate'\n> Overload resolution failed:\n>  - 'iteration' is an invalid keyword argument for dilate()\n>  - 'iteration' is an invalid keyword argument for dilate()\n"
     ]
    }
   ],
   "source": [
    "import cv2\n",
    "# define object to access the webcam\\\n",
    "ob = cv2.VideoCapture(0)\n",
    "# check if the camera oppened successfully\n",
    "if not ob.isOpened():\n",
    "    print(\"Error\")\n",
    "    exit()\n",
    "# variables for gesture detection\n",
    "background = None\n",
    "accumulated_weight = 0.5\n",
    "gesture_flag = False\n",
    "\n",
    "# loop to continuously capture and process videos\n",
    "while True:\n",
    "    ret, frame =ob.read()\n",
    "    \n",
    "    if not ret:\n",
    "        print(\"Error: Could not read a frame.\")\n",
    "        break\n",
    "        \n",
    "    \n",
    "#         convert the frame to grayscale\n",
    "    gray_frame = cv2.cvtColor(frame, cv2.COLOR_BGR2GRAY)\n",
    "    gray_frame = cv2.GaussianBlur(gray_frame, (21,21), 0)\n",
    "        \n",
    "    if background is None:\n",
    "        background = gray_frame.copy().astype(\"float\")\n",
    "        continue\n",
    "            \n",
    "#         calculate the absolute difference b/w current frame and background\n",
    "    cv2.accumulateWeighted(gray_frame,background,accumulated_weight)\n",
    "    frame_delta = cv2.absdiff(gray_frame,cv2.convertScaleAbs(background))\n",
    "        \n",
    "#         apply threshold to the fame \n",
    "\n",
    "    thresh = cv2.threshold(frame_delta,25,255,cv2.THRESH_BINARY)[1]\n",
    "    thresh = cv2.dilate(thresh, None,iteration = 2)\n",
    "        \n",
    "#         Find contours in the threshold image\n",
    "    contours, _ = cv2.findContours(thresh.copy(), cv2.RETR_EXTERNAL, cv2.CHAIN_APPROX_SIMPLE)\n",
    "    for contours in contours:\n",
    "        if cv2.contourArea(contour) < 1000:\n",
    "#                 Adjust the area theshold \n",
    "            continue\n",
    "        #gesture recognition by movement \n",
    "        (x,y,w,h) = cv2.boundingReact(contour)\n",
    "        cv2.rectangle(frame,(x,y), (x+w,y+h), (8,255,0),2)\n",
    "        gesture_flag = True\n",
    "#     Display frame \n",
    "    cv2.imshow(\"Video\",frame)\n",
    "    \n",
    "    if cv2.waitKey(1) & 0xFF == ord('q'):\n",
    "        break\n",
    "# close window\n",
    "ob.release()\n",
    "cv2.destroyAllWindows()"
   ]
  },
  {
   "cell_type": "code",
   "execution_count": 6,
   "id": "0bc0da12",
   "metadata": {},
   "outputs": [
    {
     "name": "stdout",
     "output_type": "stream",
     "text": [
      "Requirement already satisfied: opencv-python in c:\\users\\subra\\anaconda3\\lib\\site-packages (4.8.0.76)\n",
      "Requirement already satisfied: numpy>=1.21.2 in c:\\users\\subra\\anaconda3\\lib\\site-packages (from opencv-python) (1.24.3)\n"
     ]
    }
   ],
   "source": [
    "!pip install opencv-python"
   ]
  },
  {
   "cell_type": "code",
   "execution_count": 19,
   "id": "d75bec2f",
   "metadata": {},
   "outputs": [
    {
     "name": "stdout",
     "output_type": "stream",
     "text": [
      "Original image format: JPEG\n",
      "Original image size: (3024, 4032)\n",
      "Image processed and saved to: D:\\CLG\\PYTHON\\modified_image.jpg\n"
     ]
    }
   ],
   "source": [
    "from PIL import Image, ImageFilter\n",
    "# open an image using pillow\n",
    "image_path = \"E:\\Pictures\\Saved Pictures\\Rishikesh\\IMG_6659.HEIC.jpg\"\n",
    "original_image = Image.open(image_path)\n",
    "# display some information about the image\n",
    "print(\"Original image format:\", original_image.format)\n",
    "print(\"Original image size:\", original_image.size)\n",
    "blurred_image = original_image.filter(ImageFilter.GaussianBlur(radius=2))\n",
    "# save the modified image \n",
    "output_path = \"D:\\CLG\\PYTHON\\modified_image.jpg\"\n",
    "blurred_image.save(output_path)\n",
    "# display a msg\n",
    "print(\"Image processed and saved to:\",output_path)"
   ]
  },
  {
   "cell_type": "code",
   "execution_count": null,
   "id": "6cfef0b4",
   "metadata": {},
   "outputs": [],
   "source": []
  }
 ],
 "metadata": {
  "kernelspec": {
   "display_name": "Python 3 (ipykernel)",
   "language": "python",
   "name": "python3"
  },
  "language_info": {
   "codemirror_mode": {
    "name": "ipython",
    "version": 3
   },
   "file_extension": ".py",
   "mimetype": "text/x-python",
   "name": "python",
   "nbconvert_exporter": "python",
   "pygments_lexer": "ipython3",
   "version": "3.11.4"
  }
 },
 "nbformat": 4,
 "nbformat_minor": 5
}
