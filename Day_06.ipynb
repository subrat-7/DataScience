{
 "cells": [
  {
   "cell_type": "code",
   "execution_count": 1,
   "id": "f1400cb7",
   "metadata": {},
   "outputs": [],
   "source": [
    "import numpy as np\n",
    "import scipy.stats as stats\n"
   ]
  },
  {
   "cell_type": "code",
   "execution_count": 5,
   "id": "a4999660",
   "metadata": {},
   "outputs": [
    {
     "name": "stdout",
     "output_type": "stream",
     "text": [
      "Mean: 35.0\n",
      "Medean: 35.0\n"
     ]
    }
   ],
   "source": [
    "data = [10,20,30,40,50,60]\n",
    "#mean\n",
    "mean = np.mean(data)\n",
    "print(\"Mean:\",mean)\n",
    "#median\n",
    "median = np.median(data)\n",
    "print(\"Medean:\",median)"
   ]
  },
  {
   "cell_type": "code",
   "execution_count": 7,
   "id": "7dd69730",
   "metadata": {},
   "outputs": [
    {
     "name": "stdout",
     "output_type": "stream",
     "text": [
      "Standard deviation: 17.07825127659933\n"
     ]
    }
   ],
   "source": [
    "std_dev = np.std(data)\n",
    "std_dev = print(\"Standard deviation:\",std_dev)"
   ]
  },
  {
   "cell_type": "code",
   "execution_count": 11,
   "id": "1e680655",
   "metadata": {},
   "outputs": [
    {
     "name": "stdout",
     "output_type": "stream",
     "text": [
      "T-statistics: 2.473242778639967\n",
      "P-value: 0.03538153048236611\n"
     ]
    }
   ],
   "source": [
    "sample_data = [23,25,35,42,34,64,44,56,45,33]\n",
    "population_mean = 30\n",
    "t_stat, p_value = stats.ttest_1samp(sample_data,population_mean)\n",
    "print(\"T-statistics:\",t_stat)\n",
    "print(\"P-value:\",p_value)"
   ]
  },
  {
   "cell_type": "code",
   "execution_count": 12,
   "id": "829a6620",
   "metadata": {},
   "outputs": [
    {
     "name": "stdout",
     "output_type": "stream",
     "text": [
      "the sample mean is signoficanly different from population mean\n"
     ]
    }
   ],
   "source": [
    "if p_value < 0.05:\n",
    "    print(\"the sample mean is signoficanly different from population mean\")\n",
    "else:\n",
    "    print(\"there is no significant difference between the sample mean and population mean\")"
   ]
  },
  {
   "cell_type": "code",
   "execution_count": 16,
   "id": "9c14edbf",
   "metadata": {},
   "outputs": [
    {
     "name": "stdout",
     "output_type": "stream",
     "text": [
      "Random Sample [12, 11, 33, 13, 46, 44, 34, 26, 38, 69]\n"
     ]
    }
   ],
   "source": [
    "import random \n",
    "# sample data\n",
    "population_data = list(range(1,101))\n",
    "# random select 10 sample from population\n",
    "sample_size = 10\n",
    "random_sample = random.sample(population_data,sample_size)\n",
    "print(\"Random Sample\",random_sample)"
   ]
  },
  {
   "cell_type": "code",
   "execution_count": 41,
   "id": "653ef38a",
   "metadata": {},
   "outputs": [
    {
     "name": "stdout",
     "output_type": "stream",
     "text": [
      "correlation coefficient 0.9999999999999999\n"
     ]
    }
   ],
   "source": [
    "# corelation and regression\n",
    "import matplotlib.pyplot as plt\n",
    "# sample data \n",
    "x = np.array([1,2,3,4,5])\n",
    "y = np.array([2,4,6,8,10])\n",
    "# calculating corelation coff\n",
    "correlation_coff = np.corrcoef(x,y)[0,1]\n",
    "print(\"correlation coefficient\",correlation_coff)"
   ]
  },
  {
   "cell_type": "code",
   "execution_count": 35,
   "id": "c19b0b57",
   "metadata": {},
   "outputs": [
    {
     "data": {
      "image/png": "[encoded data removed]",
      "text/plain": [
       "<Figure size 432x288 with 2 Axes>"
      ]
     },
     "metadata": {
      "needs_background": "light"
     },
     "output_type": "display_data"
    }
   ],
   "source": [
    "data = np.array([[1,2,3,4,5],[9,8,7,6,5]])\n",
    "plt.imshow(data,cmap ='hot')\n",
    "plt.colorbar()\n",
    "plt.title('Heatmap')\n",
    "plt.show()"
   ]
  },
  {
   "cell_type": "code",
   "execution_count": 42,
   "id": "360ae2e5",
   "metadata": {},
   "outputs": [
    {
     "data": {
      "image/png": "[encoded data removed]",
      "text/plain": [
       "<Figure size 432x288 with 1 Axes>"
      ]
     },
     "metadata": {
      "needs_background": "light"
     },
     "output_type": "display_data"
    }
   ],
   "source": [
    "# performing linear regression\n",
    "slope,intercept,r_value,p_value,std_err = stats.linregress(x,y)\n",
    "# predicted values using the regression model\n",
    "predicted_y = slope*x + intercept\n",
    "# plot the data and regression line\n",
    "plt.scatter(x,y,label = 'Data')\n",
    "plt.plot(x,predicted_y,color = 'green',label = 'Regression Line')\n",
    "plt.legend()\n",
    "plt.xlabel('X')\n",
    "plt.ylabel('Y')\n",
    "plt.show()"
   ]
  },
  {
   "cell_type": "code",
   "execution_count": 44,
   "id": "5828e7e2",
   "metadata": {},
   "outputs": [
    {
     "data": {
      "text/html": [
       "<div>\n",
       "<style scoped>\n",
       "    .dataframe tbody tr th:only-of-type {\n",
       "        vertical-align: middle;\n",
       "    }\n",
       "\n",
       "    .dataframe tbody tr th {\n",
       "        vertical-align: top;\n",
       "    }\n",
       "\n",
       "    .dataframe thead th {\n",
       "        text-align: right;\n",
       "    }\n",
       "</style>\n",
       "<table border=\"1\" class=\"dataframe\">\n",
       "  <thead>\n",
       "    <tr style=\"text-align: right;\">\n",
       "      <th></th>\n",
       "      <th>P_Id</th>\n",
       "      <th>Age</th>\n",
       "      <th>BP</th>\n",
       "      <th>Chol</th>\n",
       "    </tr>\n",
       "  </thead>\n",
       "  <tbody>\n",
       "    <tr>\n",
       "      <th>0</th>\n",
       "      <td>1</td>\n",
       "      <td>35</td>\n",
       "      <td>120</td>\n",
       "      <td>180</td>\n",
       "    </tr>\n",
       "    <tr>\n",
       "      <th>1</th>\n",
       "      <td>2</td>\n",
       "      <td>33</td>\n",
       "      <td>120</td>\n",
       "      <td>183</td>\n",
       "    </tr>\n",
       "    <tr>\n",
       "      <th>2</th>\n",
       "      <td>3</td>\n",
       "      <td>35</td>\n",
       "      <td>121</td>\n",
       "      <td>184</td>\n",
       "    </tr>\n",
       "    <tr>\n",
       "      <th>3</th>\n",
       "      <td>4</td>\n",
       "      <td>32</td>\n",
       "      <td>122</td>\n",
       "      <td>188</td>\n",
       "    </tr>\n",
       "    <tr>\n",
       "      <th>4</th>\n",
       "      <td>5</td>\n",
       "      <td>35</td>\n",
       "      <td>125</td>\n",
       "      <td>186</td>\n",
       "    </tr>\n",
       "  </tbody>\n",
       "</table>\n",
       "</div>"
      ],
      "text/plain": [
       "   P_Id  Age   BP  Chol\n",
       "0     1   35  120   180\n",
       "1     2   33  120   183\n",
       "2     3   35  121   184\n",
       "3     4   32  122   188\n",
       "4     5   35  125   186"
      ]
     },
     "execution_count": 44,
     "metadata": {},
     "output_type": "execute_result"
    }
   ],
   "source": [
    "import pandas as pd\n",
    "data = pd.read_csv(\"Patient.csv\")\n",
    "# display first few rows\n",
    "data.head()"
   ]
  },
  {
   "cell_type": "code",
   "execution_count": 46,
   "id": "19c60d71",
   "metadata": {},
   "outputs": [
    {
     "data": {
      "text/html": [
       "<div>\n",
       "<style scoped>\n",
       "    .dataframe tbody tr th:only-of-type {\n",
       "        vertical-align: middle;\n",
       "    }\n",
       "\n",
       "    .dataframe tbody tr th {\n",
       "        vertical-align: top;\n",
       "    }\n",
       "\n",
       "    .dataframe thead th {\n",
       "        text-align: right;\n",
       "    }\n",
       "</style>\n",
       "<table border=\"1\" class=\"dataframe\">\n",
       "  <thead>\n",
       "    <tr style=\"text-align: right;\">\n",
       "      <th></th>\n",
       "      <th>P_Id</th>\n",
       "      <th>Age</th>\n",
       "      <th>BP</th>\n",
       "      <th>Chol</th>\n",
       "    </tr>\n",
       "  </thead>\n",
       "  <tbody>\n",
       "    <tr>\n",
       "      <th>count</th>\n",
       "      <td>20.00000</td>\n",
       "      <td>20.000000</td>\n",
       "      <td>20.00000</td>\n",
       "      <td>20.000000</td>\n",
       "    </tr>\n",
       "    <tr>\n",
       "      <th>mean</th>\n",
       "      <td>10.50000</td>\n",
       "      <td>37.950000</td>\n",
       "      <td>126.00000</td>\n",
       "      <td>184.000000</td>\n",
       "    </tr>\n",
       "    <tr>\n",
       "      <th>std</th>\n",
       "      <td>5.91608</td>\n",
       "      <td>6.992289</td>\n",
       "      <td>6.72779</td>\n",
       "      <td>4.116718</td>\n",
       "    </tr>\n",
       "    <tr>\n",
       "      <th>min</th>\n",
       "      <td>1.00000</td>\n",
       "      <td>30.000000</td>\n",
       "      <td>120.00000</td>\n",
       "      <td>180.000000</td>\n",
       "    </tr>\n",
       "    <tr>\n",
       "      <th>25%</th>\n",
       "      <td>5.75000</td>\n",
       "      <td>34.500000</td>\n",
       "      <td>120.00000</td>\n",
       "      <td>180.000000</td>\n",
       "    </tr>\n",
       "    <tr>\n",
       "      <th>50%</th>\n",
       "      <td>10.50000</td>\n",
       "      <td>35.000000</td>\n",
       "      <td>125.00000</td>\n",
       "      <td>183.500000</td>\n",
       "    </tr>\n",
       "    <tr>\n",
       "      <th>75%</th>\n",
       "      <td>15.25000</td>\n",
       "      <td>39.750000</td>\n",
       "      <td>129.25000</td>\n",
       "      <td>186.250000</td>\n",
       "    </tr>\n",
       "    <tr>\n",
       "      <th>max</th>\n",
       "      <td>20.00000</td>\n",
       "      <td>55.000000</td>\n",
       "      <td>143.00000</td>\n",
       "      <td>194.000000</td>\n",
       "    </tr>\n",
       "  </tbody>\n",
       "</table>\n",
       "</div>"
      ],
      "text/plain": [
       "           P_Id        Age         BP        Chol\n",
       "count  20.00000  20.000000   20.00000   20.000000\n",
       "mean   10.50000  37.950000  126.00000  184.000000\n",
       "std     5.91608   6.992289    6.72779    4.116718\n",
       "min     1.00000  30.000000  120.00000  180.000000\n",
       "25%     5.75000  34.500000  120.00000  180.000000\n",
       "50%    10.50000  35.000000  125.00000  183.500000\n",
       "75%    15.25000  39.750000  129.25000  186.250000\n",
       "max    20.00000  55.000000  143.00000  194.000000"
      ]
     },
     "execution_count": 46,
     "metadata": {},
     "output_type": "execute_result"
    }
   ],
   "source": [
    "# calculate summary stats\n",
    "summary_stats = data.describe()\n",
    "summary_stats"
   ]
  },
  {
   "cell_type": "code",
   "execution_count": 52,
   "id": "ec64adcc",
   "metadata": {},
   "outputs": [
    {
     "name": "stdout",
     "output_type": "stream",
     "text": [
      "Mean Age 37.95\n",
      "Median Age 35.0\n",
      "Standard deviation of Age 6.992288985958596\n",
      "Cholestrol and Age corelation: 0.042053653365729894\n"
     ]
    }
   ],
   "source": [
    "# patient dataset\n",
    "mean_age = data['Age'].mean()\n",
    "median_age = data['Age'].median()\n",
    "std_dev_age = data['Age'].std()\n",
    "print(\"Mean Age\",mean_age)\n",
    "print(\"Median Age\",median_age)\n",
    "print(\"Standard deviation of Age\",std_dev_age)\n",
    "cholestrol_age_corelation = data['Age'].corr(data['Chol'])\n",
    "print(\"Cholestrol and Age corelation:\",cholestrol_age_corelation)"
   ]
  },
  {
   "cell_type": "code",
   "execution_count": 53,
   "id": "c9cd7e84",
   "metadata": {},
   "outputs": [
    {
     "data": {
      "text/html": [
       "<div>\n",
       "<style scoped>\n",
       "    .dataframe tbody tr th:only-of-type {\n",
       "        vertical-align: middle;\n",
       "    }\n",
       "\n",
       "    .dataframe tbody tr th {\n",
       "        vertical-align: top;\n",
       "    }\n",
       "\n",
       "    .dataframe thead th {\n",
       "        text-align: right;\n",
       "    }\n",
       "</style>\n",
       "<table border=\"1\" class=\"dataframe\">\n",
       "  <thead>\n",
       "    <tr style=\"text-align: right;\">\n",
       "      <th></th>\n",
       "      <th>Student_Id</th>\n",
       "      <th>Age</th>\n",
       "      <th>Gender</th>\n",
       "      <th>Math_Score</th>\n",
       "      <th>Science_Score</th>\n",
       "      <th>English_Score</th>\n",
       "    </tr>\n",
       "  </thead>\n",
       "  <tbody>\n",
       "    <tr>\n",
       "      <th>0</th>\n",
       "      <td>1</td>\n",
       "      <td>15</td>\n",
       "      <td>Male</td>\n",
       "      <td>85</td>\n",
       "      <td>92</td>\n",
       "      <td>78</td>\n",
       "    </tr>\n",
       "    <tr>\n",
       "      <th>1</th>\n",
       "      <td>2</td>\n",
       "      <td>15</td>\n",
       "      <td>Female</td>\n",
       "      <td>85</td>\n",
       "      <td>92</td>\n",
       "      <td>72</td>\n",
       "    </tr>\n",
       "    <tr>\n",
       "      <th>2</th>\n",
       "      <td>3</td>\n",
       "      <td>16</td>\n",
       "      <td>Male</td>\n",
       "      <td>85</td>\n",
       "      <td>88</td>\n",
       "      <td>78</td>\n",
       "    </tr>\n",
       "    <tr>\n",
       "      <th>3</th>\n",
       "      <td>4</td>\n",
       "      <td>15</td>\n",
       "      <td>Male</td>\n",
       "      <td>90</td>\n",
       "      <td>92</td>\n",
       "      <td>65</td>\n",
       "    </tr>\n",
       "    <tr>\n",
       "      <th>4</th>\n",
       "      <td>5</td>\n",
       "      <td>17</td>\n",
       "      <td>Female</td>\n",
       "      <td>89</td>\n",
       "      <td>92</td>\n",
       "      <td>78</td>\n",
       "    </tr>\n",
       "    <tr>\n",
       "      <th>5</th>\n",
       "      <td>6</td>\n",
       "      <td>13</td>\n",
       "      <td>Male</td>\n",
       "      <td>85</td>\n",
       "      <td>99</td>\n",
       "      <td>77</td>\n",
       "    </tr>\n",
       "    <tr>\n",
       "      <th>6</th>\n",
       "      <td>7</td>\n",
       "      <td>15</td>\n",
       "      <td>Female</td>\n",
       "      <td>78</td>\n",
       "      <td>92</td>\n",
       "      <td>78</td>\n",
       "    </tr>\n",
       "    <tr>\n",
       "      <th>7</th>\n",
       "      <td>8</td>\n",
       "      <td>14</td>\n",
       "      <td>Male</td>\n",
       "      <td>80</td>\n",
       "      <td>92</td>\n",
       "      <td>70</td>\n",
       "    </tr>\n",
       "    <tr>\n",
       "      <th>8</th>\n",
       "      <td>9</td>\n",
       "      <td>15</td>\n",
       "      <td>Female</td>\n",
       "      <td>84</td>\n",
       "      <td>82</td>\n",
       "      <td>78</td>\n",
       "    </tr>\n",
       "    <tr>\n",
       "      <th>9</th>\n",
       "      <td>10</td>\n",
       "      <td>15</td>\n",
       "      <td>Male</td>\n",
       "      <td>85</td>\n",
       "      <td>88</td>\n",
       "      <td>80</td>\n",
       "    </tr>\n",
       "  </tbody>\n",
       "</table>\n",
       "</div>"
      ],
      "text/plain": [
       "   Student_Id  Age  Gender  Math_Score  Science_Score  English_Score\n",
       "0           1   15    Male          85             92             78\n",
       "1           2   15  Female          85             92             72\n",
       "2           3   16    Male          85             88             78\n",
       "3           4   15    Male          90             92             65\n",
       "4           5   17  Female          89             92             78\n",
       "5           6   13    Male          85             99             77\n",
       "6           7   15  Female          78             92             78\n",
       "7           8   14    Male          80             92             70\n",
       "8           9   15  Female          84             82             78\n",
       "9          10   15    Male          85             88             80"
      ]
     },
     "execution_count": 53,
     "metadata": {},
     "output_type": "execute_result"
    }
   ],
   "source": [
    "# Student Score\n",
    "data1 = pd.read_csv(\"Student_Score.csv\")\n",
    "data1"
   ]
  },
  {
   "cell_type": "code",
   "execution_count": null,
   "id": "22d4e59e",
   "metadata": {},
   "outputs": [],
   "source": []
  }
 ],
 "metadata": {
  "kernelspec": {
   "display_name": "Python 3 (ipykernel)",
   "language": "python",
   "name": "python3"
  },
  "language_info": {
   "codemirror_mode": {
    "name": "ipython",
    "version": 3
   },
   "file_extension": ".py",
   "mimetype": "text/x-python",
   "name": "python",
   "nbconvert_exporter": "python",
   "pygments_lexer": "ipython3",
   "version": "3.9.12"
  }
 },
 "nbformat": 4,
 "nbformat_minor": 5
}
